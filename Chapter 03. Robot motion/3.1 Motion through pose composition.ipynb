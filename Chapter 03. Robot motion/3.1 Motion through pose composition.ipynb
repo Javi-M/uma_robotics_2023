{
 "cells": [
  {
   "cell_type": "markdown",
   "metadata": {},
   "source": [
    "# 3.1 Motion through pose composition\n",
    "\n",
    "A fundamental aspect of the development of mobile robots is the motion itself. In an idyllic world, motion commands are sent to the robot locomotion system, which perfectly executes them and drives the robot to a desired location. However, this is not a trivial matter, as many sources of motion error appear: \n",
    "- wheel slippage, \n",
    "- inaccurate calibration,\n",
    "- limited resolution during integration (time increments, measurement resolution), or\n",
    "- unequal floor, among others.\n",
    "\n",
    "These factors introduce uncertainty in the robot motion. Additionally, other constraints to the movement difficult its implementation. This particular chapter explores the concept of *robot's pose* and how we deal with it in a probabilistic context.\n",
    "\n",
    "The pose itself can take multiple forms depending on the problem context:\n",
    "\n",
    "- **2D location**: In a planar context we only need to a 2d vector $[x, y]^T$ to locate a robot against a point of reference, the origin $(0, 0).$\n",
    "- **2D pose**: In most cases involving mobile robots, the location alone is insufficient. We need an additional parameter known as orientation or *bearing*. Therefore, a robot's pose is usually expressed as $[x, y, \\theta]^T$ (see Fig. 1). *In the rest of the book, we mostly refer to this one.*\n",
    "- **3D pose**: Although we will only mention it in passing, for robotics applications in the 3D space, *i.e.* UAV or drones, not only a third axis $z$ is added, but to handle the orientation in a 3D environment we need 3 components, *i.e.* roll, pitch and yaw. This course is centered around planar mobile robots so we will not use this one, nevertheless most methods could be adapted to 3D environments.\n",
    "\n",
    "<figure style=\"text-align:center\">\n",
    "  <img src=\"images/pose-composition.png\" alt=\"\" width=\"400px\">\n",
    "  <figcaption>Fig. 1: Example of an initial 2D robot pose ($p_1$) and its resultant pose ($p_2$) after completing a motion ($\\Delta p$).</figcaption>\n",
    "</figure>\n",
    "\n",
    "In this chapter we will explore how to use the **composition of poses** to express poses in a certain reference system, while the next two chapters describe two probabilistic methods for dealing with the uncertainty inherent to robot motion, namely the **velocity-based** motion model and the **odometry-based** one. "
   ]
  },
  {
   "cell_type": "code",
   "execution_count": 1,
   "metadata": {},
   "outputs": [],
   "source": [
    "%matplotlib widget\n",
    "\n",
    "# IMPORTS\n",
    "\n",
    "import numpy as np\n",
    "import matplotlib.pyplot as plt\n",
    "from scipy import stats\n",
    "from IPython.display import display, clear_output\n",
    "import time\n",
    "\n",
    "import sys\n",
    "sys.path.append(\"..\")\n",
    "from utils.DrawRobot import DrawRobot\n",
    "from utils.tcomp import tcomp"
   ]
  },
  {
   "cell_type": "markdown",
   "metadata": {},
   "source": [
    "## <span style=\"color:green\">OPTIONAL</span>\n",
    "\n",
    "<span style=\"color:green\">In the Robot motion lecture, we started talking about *Differential drive* motion systems. Include as many cells as needed to introduce the background that you find interesting about it and some code illustrating some related aspect, for example, a code computing and plotting the *Instantaneus Center of Rotation (ICR)* according to a number of given parameters.</span>"
   ]
  },
  {
   "cell_type": "markdown",
   "metadata": {},
   "source": [
    "<span style=\"color:green\">***END OF OPTIONAL PART***</span>"
   ]
  },
  {
   "cell_type": "markdown",
   "metadata": {},
   "source": [
    "## 3.1 Pose composition <a id=\"pose_composition\"></a>\n",
    "\n",
    "The composition of posses is a tool that permits us to express the *final* pose of a robot in an arbitrary coordinate system. Given an initial pose $p_1$ and a pose differential $\\Delta p$ (pose increment), *i.e.* how much the robot has moved during an interval of time, the final pose $p$ can be computed using the **composition of poses** function:\n",
    "\n",
    "$$\n",
    "    p_1 = \n",
    "        \\begin{bmatrix}\n",
    "            x_1 \\\\ y_1 \\\\ \\theta_1\n",
    "        \\end{bmatrix}, \\, \\, \\,\n",
    "    \\Delta p = \n",
    "        \\begin{bmatrix}\n",
    "            \\Delta x \\\\ \\Delta y \\\\ \\Delta \\theta\n",
    "        \\end{bmatrix}\n",
    "$$\n",
    "\n",
    "$$\n",
    "    \\begin{equation}\n",
    "    p = \\begin{bmatrix}\n",
    "            x \\\\ y \\\\ \\theta\n",
    "        \\end{bmatrix}\n",
    "        = p_1 \\oplus \\Delta p\n",
    "        = \\begin{bmatrix}\n",
    "            x_1 + \\Delta x \\cos \\theta_1 - \\Delta y \\sin \\theta_1 \\\\ \n",
    "            y_1 + \\Delta x \\sin \\theta_1 + \\Delta y \\cos \\theta_1 \\\\\n",
    "            \\theta_1 + \\Delta \\theta\n",
    "          \\end{bmatrix}\n",
    "    \\end{equation}\n",
    "$$\n",
    "\n",
    "\n",
    "The differential $\\Delta p$, although we are using it as control in this exercise, normally is calculated given the robot's locomotion or sensed by the wheel encoders."
   ]
  },
  {
   "cell_type": "markdown",
   "metadata": {},
   "source": [
    "## <span style=\"color:green\">OPTIONAL</span>\n",
    "\n",
    "<span style=\"color:green\">Implement your own methods to compute the composition of two poses, as well as the inverse composition. Include some examples of their utilization, also incorporating plots.</span>"
   ]
  },
  {
   "cell_type": "markdown",
   "metadata": {},
   "source": [
    "<span style=\"color:green\">***END OF OPTIONAL PART***</span>"
   ]
  },
  {
   "cell_type": "markdown",
   "metadata": {},
   "source": [
    "### **<span style=\"color:green\"><b><i>ASSIGNMENT 1: Moving the robot by composing pose increments</i></b></span>**\n",
    "\n",
    "Take a look at the `Robot()` class provided and its methods: the constructor, `step()` and `draw()`. Then, modify the main function in the next cell for the robot to describe a $8m \\times 8m$ square path as seen in the figure below. You must take into account that:\n",
    "\n",
    "- The robot starts in the bottom-left corner $(0, 0)$ heading north and \n",
    "- moves at increments of $2 m$ each step. \n",
    "- Each 4 steps, it will turn right.\n",
    "\n",
    "**Example**\n",
    "\n",
    "\n",
    "<figure style=\"text-align:center\">\n",
    "  <img src=\"images/fig3-1-1.png\" alt=\"\">\n",
    "  <figcaption>Fig. 2: Route of our robot.</figcaption>\n",
    "</figure>"
   ]
  },
  {
   "cell_type": "code",
   "execution_count": 2,
   "metadata": {},
   "outputs": [],
   "source": [
    "class Robot():\n",
    "    '''Mobile robot implementation\n",
    "    \n",
    "        Attr:\n",
    "            pose: Expected position of the robot\n",
    "    '''\n",
    "    def __init__(self, mean):\n",
    "        self.pose = mean\n",
    "\n",
    "    def step(self, u):\n",
    "        self.pose = tcomp(self.pose, u)\n",
    "    \n",
    "    def draw(self, fig, ax):\n",
    "        DrawRobot(fig, ax, self.pose)"
   ]
  },
  {
   "cell_type": "code",
   "execution_count": 3,
   "metadata": {},
   "outputs": [],
   "source": [
    "def main(robot):\n",
    "    \n",
    "    # PARAMETERS INITIALIZATION\n",
    "    num_steps = 15 # Number of robot motions\n",
    "    turning = 4  # Number of steps for turning\n",
    "    u = np.vstack([2., 0., 0.]) # Motion command (pose increment)\n",
    "    angle_inc = -np.pi/2 # Angle increment\n",
    "    \n",
    "    # VISUALIZATION\n",
    "    fig, ax = plt.subplots()\n",
    "    plt.ion()\n",
    "    plt.draw()\n",
    "    plt.xlim((-2, 10))\n",
    "    plt.ylim((-2, 10))\n",
    "    plt.fill([2, 2, 6, 6],[2, 6, 6, 2],facecolor='lightgray', edgecolor='gray', linewidth=3)\n",
    "    \n",
    "    plt.grid()\n",
    "    robot.draw(fig, ax)\n",
    "    \n",
    "    # MAIN LOOP\n",
    "    for step in range(1,num_steps+1):\n",
    "        \n",
    "        # Check if the robot has to move in straight line or also has to turn\n",
    "        # and accordingly set the third component (rotation) of the motion command\n",
    "        # If `step` is multiple of `turning`, it turns right\n",
    "        if not ((step)%turning==0):\n",
    "            u[2] = 0 \n",
    "        else:\n",
    "            u[2] = angle_inc\n",
    "             \n",
    "        # Execute the motion command        \n",
    "        robot.step(u)\n",
    "        \n",
    "        # VISUALIZATION        \n",
    "        robot.draw(fig, ax)        \n",
    "        clear_output(wait=True)\n",
    "        display(fig)        \n",
    "        time.sleep(0.1)\n",
    "        \n",
    "    plt.close()"
   ]
  },
  {
   "cell_type": "markdown",
   "metadata": {},
   "source": [
    "Execute the following code cell to **try your code**. The resulting figure must be the same as Fig. 2."
   ]
  },
  {
   "cell_type": "code",
   "execution_count": 4,
   "metadata": {},
   "outputs": [
    {
     "data": {
      "image/png": "[encoded data removed]",
      "text/plain": [
       "<Figure size 640x480 with 1 Axes>"
      ]
     },
     "metadata": {},
     "output_type": "display_data"
    }
   ],
   "source": [
    "# RUN \n",
    "initial_pose = np.vstack([0., 0., np.pi/2])\n",
    "robot = Robot(initial_pose)\n",
    "main(robot)"
   ]
  },
  {
   "cell_type": "markdown",
   "metadata": {},
   "source": [
    "## 3.2 Considering noise\n",
    "\n",
    "In the previous case, the robot motion was error-free. This is overly optimistic as in a real use case the conditions of the environment are a huge source of uncertainty.\n",
    "\n",
    "To take into consideration such uncertainty, we will model the movement of the robot as a (multidimensional) gaussian distribution $\\Delta p \\sim N(\\mu_{\\Delta p},\\Sigma_{\\Delta p})$ where:\n",
    "\n",
    "- The mean $\\mu_{\\Delta p}$ is still the pose differential in the previous exercise, that is $\\Delta p_{\\text{given}}$.\n",
    "- The covariance $\\Sigma_{\\Delta p}$ is a $3 \\times 3$ matrix, which defines the amount of error at each step (time interval). "
   ]
  },
  {
   "cell_type": "markdown",
   "metadata": {},
   "source": [
    "### **<span style=\"color:green\"><b><i>ASSIGNMENT 2: Adding noise to the pose motion</i></b></span>**\n",
    "\n",
    "Now, we are going to add a Gaussian noise to the motion, assuming that the incremental motion now follows the probability distribution:\n",
    "\n",
    "$$\n",
    "    \\Delta p = N(\\Delta p_{given}, \\Sigma_{\\Delta p})\n",
    "    \\textit{ with } \n",
    "    \\Sigma_{\\Delta p}  =\n",
    "        \\begin{bmatrix}\n",
    "            0.04 & 0 & 0 \\\\\n",
    "            0 & 0.04 & 0 \\\\\n",
    "            0 & 0 & 0.01\n",
    "        \\end{bmatrix}\n",
    "    (\\text{ units in }m^2 \\text{ and } rad^2)\n",
    "$$\n",
    "\n",
    "For doing that, complete the `NoisyRobot()` class below, which is a child class of the previous `Robot()` one. Concretely, you have to:\n",
    "\n",
    "- Complete this new class by adding some amount of noise to the movement (take a look at the `step()` method. *Hints: [`np.vstack()`](https://docs.scipy.org/doc/numpy/reference/generated/numpy.vstack.html), [`stats.multivariate_normal.rvs()`](https://docs.scipy.org/doc/scipy/reference/generated/scipy.stats.multivariate_normal.html)*. \n",
    "Remark that we have now two variables related to the robot pose:\n",
    "  - `self.pose`, which represents the expected, *ideal* pose, and\n",
    "  - `self.true_pose`, that stands for the actual pose after carrying out a noisy motion command.\n",
    "- Along with the expected pose drawn in red (`self.pose`), in the `draw()` method plot the real pose of the robot (`self.true_pose`) in blue, which as commented is affected by noise. \n",
    "\n",
    "Run the cell several times to see that the motion (and the path) is different each time. Try also with different values of the covariance matrix.\n",
    "\n",
    "**Example**\n",
    "\n",
    "<figure style=\"text-align:center\">\n",
    "  <img src=\"images/fig3-1-2.png\" alt=\"\">\n",
    "  <figcaption>Fig. 3: Movement of our robot using pose compositions. <br/>\n",
    "      Containing the expected poses (in red) and the true pose <br/> affected by noise (in blue)</figcaption>\n",
    "</figure>"
   ]
  },
  {
   "cell_type": "code",
   "execution_count": 55,
   "metadata": {},
   "outputs": [],
   "source": [
    "# from statistics import covariance\n",
    "\n",
    "class NoisyRobot(Robot):\n",
    "    \"\"\"Mobile robot implementation. It's motion has a set ammount of noise.\n",
    "    \n",
    "        Attr:\n",
    "            pose: Inherited from Robot\n",
    "            true_pose: Real robot pose, which has been affected by some ammount of noise.\n",
    "            covariance: Amount of error of each step.\n",
    "    \"\"\"\n",
    "    def __init__(self, mean, covariance):\n",
    "        super().__init__(mean)\n",
    "        self.true_pose = mean\n",
    "        self.covariance = covariance\n",
    "        \n",
    "    def step(self, step_increment):\n",
    "        \"\"\"Computes a single step of our noisy robot.\n",
    "        \n",
    "            super().step(...) updates the expected pose (without noise)\n",
    "            Generate a noisy increment based on step_increment and self.covariance.\n",
    "            Then this noisy increment is applied to self.true_pose\n",
    "        \"\"\"\n",
    "        super().step(step_increment)\n",
    "\n",
    "        true_step = np.vstack(stats.multivariate_normal.rvs(mean =np.ndarray.flatten(step_increment), \\\n",
    "                                                  cov = self.covariance, size=1).T\n",
    "        )\n",
    "        print(true_step)                               \n",
    "        self.true_pose = tcomp(self.true_pose, true_step)\n",
    "        \n",
    "    def draw(self, fig, ax):\n",
    "        super().draw(fig, ax)\n",
    "        DrawRobot(fig, ax, self.true_pose, self.pose)"
   ]
  },
  {
   "cell_type": "code",
   "execution_count": 56,
   "metadata": {},
   "outputs": [
    {
     "name": "stdout",
     "output_type": "stream",
     "text": [
      "[ 1.98001503  0.47003269 -0.11003155]\n"
     ]
    },
    {
     "ename": "IndexError",
     "evalue": "too many indices for array: array is 1-dimensional, but 2 were indexed",
     "output_type": "error",
     "traceback": [
      "\u001b[1;31m---------------------------------------------------------------------------\u001b[0m",
      "\u001b[1;31mIndexError\u001b[0m                                Traceback (most recent call last)",
      "Cell \u001b[1;32mIn [56], line 6\u001b[0m\n\u001b[0;32m      3\u001b[0m cov \u001b[39m=\u001b[39m np\u001b[39m.\u001b[39mdiag([\u001b[39m0.04\u001b[39m, \u001b[39m0.04\u001b[39m, \u001b[39m0.01\u001b[39m])  \n\u001b[0;32m      5\u001b[0m robot \u001b[39m=\u001b[39m NoisyRobot(initial_pose, cov)\n\u001b[1;32m----> 6\u001b[0m main(robot)\n",
      "Cell \u001b[1;32mIn [3], line 32\u001b[0m, in \u001b[0;36mmain\u001b[1;34m(robot)\u001b[0m\n\u001b[0;32m     29\u001b[0m     u[\u001b[39m2\u001b[39m] \u001b[39m=\u001b[39m angle_inc\n\u001b[0;32m     31\u001b[0m \u001b[39m# Execute the motion command        \u001b[39;00m\n\u001b[1;32m---> 32\u001b[0m robot\u001b[39m.\u001b[39;49mstep(u)\n\u001b[0;32m     34\u001b[0m \u001b[39m# VISUALIZATION        \u001b[39;00m\n\u001b[0;32m     35\u001b[0m robot\u001b[39m.\u001b[39mdraw(fig, ax)        \n",
      "Cell \u001b[1;32mIn [55], line 28\u001b[0m, in \u001b[0;36mNoisyRobot.step\u001b[1;34m(self, step_increment)\u001b[0m\n\u001b[0;32m     25\u001b[0m true_step \u001b[39m=\u001b[39m stats\u001b[39m.\u001b[39mmultivariate_normal\u001b[39m.\u001b[39mrvs(mean \u001b[39m=\u001b[39mnp\u001b[39m.\u001b[39mndarray\u001b[39m.\u001b[39mflatten(step_increment), \\\n\u001b[0;32m     26\u001b[0m                                           cov \u001b[39m=\u001b[39m \u001b[39mself\u001b[39m\u001b[39m.\u001b[39mcovariance, size\u001b[39m=\u001b[39m\u001b[39m1\u001b[39m)\u001b[39m.\u001b[39mT\n\u001b[0;32m     27\u001b[0m \u001b[39mprint\u001b[39m(true_step)                               \n\u001b[1;32m---> 28\u001b[0m \u001b[39mself\u001b[39m\u001b[39m.\u001b[39mtrue_pose \u001b[39m=\u001b[39m tcomp(\u001b[39mself\u001b[39;49m\u001b[39m.\u001b[39;49mtrue_pose, true_step)\n",
      "File \u001b[1;32mc:\\Users\\javie\\git\\uma_robotics_2023\\Chapter 03. Robot motion\\..\\utils\\tcomp.py:14\u001b[0m, in \u001b[0;36mtcomp\u001b[1;34m(tab, tbc)\u001b[0m\n\u001b[0;32m     11\u001b[0m \u001b[39mif\u001b[39;00m (tbc\u001b[39m.\u001b[39mshape[\u001b[39m0\u001b[39m] \u001b[39m!=\u001b[39m \u001b[39m3\u001b[39m):\n\u001b[0;32m     12\u001b[0m     \u001b[39mraise\u001b[39;00m \u001b[39mException\u001b[39;00m(\u001b[39m'\u001b[39m\u001b[39mTCOMP: tbc is not a valid transformation!\u001b[39m\u001b[39m'\u001b[39m)\n\u001b[1;32m---> 14\u001b[0m ang \u001b[39m=\u001b[39m tab[\u001b[39m2\u001b[39m, \u001b[39m0\u001b[39m]\u001b[39m+\u001b[39mtbc[\u001b[39m2\u001b[39;49m, \u001b[39m0\u001b[39;49m]\n\u001b[0;32m     16\u001b[0m \u001b[39mif\u001b[39;00m ang \u001b[39m>\u001b[39m pi \u001b[39mor\u001b[39;00m ang \u001b[39m<\u001b[39m\u001b[39m=\u001b[39m \u001b[39m-\u001b[39mpi:\n\u001b[0;32m     17\u001b[0m     ang \u001b[39m=\u001b[39m AngleWrap(ang)\n",
      "\u001b[1;31mIndexError\u001b[0m: too many indices for array: array is 1-dimensional, but 2 were indexed"
     ]
    },
    {
     "data": {
      "application/vnd.jupyter.widget-view+json": {
       "model_id": "3986d97d36024613902796f51fdd849f",
       "version_major": 2,
       "version_minor": 0
      },
      "image/png": "[encoded data removed]",
      "text/html": [
       "\n",
       "            <div style=\"display: inline-block;\">\n",
       "                <div class=\"jupyter-widgets widget-label\" style=\"text-align: center;\">\n",
       "                    Figure\n",
       "                </div>\n",
       "                <img src='data:image/png;base64,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' width=640.0/>\n",
       "            </div>\n",
       "        "
      ],
      "text/plain": [
       "Canvas(toolbar=Toolbar(toolitems=[('Home', 'Reset original view', 'home', 'home'), ('Back', 'Back to previous …"
      ]
     },
     "metadata": {},
     "output_type": "display_data"
    }
   ],
   "source": [
    "# RUN \n",
    "initial_pose = np.vstack([0., 0., np.pi/2])\n",
    "cov = np.diag([0.04, 0.04, 0.01])  \n",
    "\n",
    "robot = NoisyRobot(initial_pose, cov)\n",
    "main(robot)"
   ]
  },
  {
   "cell_type": "markdown",
   "metadata": {},
   "source": [
    "### <font color=\"blue\"><b><i>Thinking about it (1)</i></b></font>\n",
    "\n",
    "Now that you are an expert in retrieving the pose of a robot after carrying out a motion command defined as a pose increment, **answer the following questions**:\n",
    "\n",
    "- Why are the expected (red) and true (blue) poses different?\n",
    "\n",
    "    <p style=\"margin: 4px 0px 6px 5px; color:blue\"><i>Your answer here!</i></p>\n",
    "\n",
    "- In which scenario could they be the same?\n",
    "\n",
    "    <p style=\"margin: 4px 0px 6px 5px; color:blue\"><i>Your answer here!</i></p>\n",
    "    \n",
    "- How affect the values in the covariance matrix $\\Sigma_{\\Delta p}$ the robot motion?\n",
    "\n",
    "    <p style=\"margin: 4px 0px 6px 5px; color:blue\"><i>Your answer here!</i></p>"
   ]
  }
 ],
 "metadata": {
  "kernelspec": {
   "display_name": "Python 3.10.8 64-bit",
   "language": "python",
   "name": "python3"
  },
  "language_info": {
   "codemirror_mode": {
    "name": "ipython",
    "version": 3
   },
   "file_extension": ".py",
   "mimetype": "text/x-python",
   "name": "python",
   "nbconvert_exporter": "python",
   "pygments_lexer": "ipython3",
   "version": "3.10.8"
  },
  "vscode": {
   "interpreter": {
    "hash": "946a0cf01342572bc9f6fe0b7b06226e03099b1e781d9982757128fc69dddf14"
   }
  }
 },
 "nbformat": 4,
 "nbformat_minor": 4
}
